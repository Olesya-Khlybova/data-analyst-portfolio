{
 "cells": [
  {
   "cell_type": "markdown",
   "id": "85fda5cb",
   "metadata": {},
   "source": [
    "# Запросы к базе данных "
   ]
  },
  {
   "cell_type": "markdown",
   "id": "fde47128",
   "metadata": {},
   "source": [
    "**Цель** — ознакомиться с данными торговой сети и решить поставленные задачи.\\\n",
    "\\\n",
    "**Задачи:**\n",
    "1. Написать запрос, который покажет, сколько всего денег потратил каждый человек.\n",
    "2. Написать запрос, который покажет, сколько заказов у каждого человека.\n",
    "3. Отфильтровать людей по конкретному городу, и показать, сколько раз каждый человек посетил каждую точку (при условии, что некоторые люди посещают больше одной точки).\n",
    "**Ход решения:**\n",
    "1. Ознакомиться с данными.\n",
    "2. Решить поставленные задачи.\n",
    "3. Вывести результаты каждого запроса.\n",
    "4. Сделать выводы по каждой из задач.\n",
    "**Описание данных**\\\n",
    "\\\n",
    "_Таблица orders_ \\\n",
    "\\\n",
    "Содержит данные о заказах:\\\n",
    "`order_num` — номер заказа;\\\n",
    "`client_id` — id клиента;\\\n",
    "`store_name` — имя магазина;\\\n",
    "`price`  — сумма заказа.\\\n",
    "\\\n",
    "_Таблица info_client_ \\\n",
    "\\\n",
    "Содержит информацию о клиентах:\\\n",
    "`client_id` — id клиента;\\\n",
    "`client_name` — имя клиента;\\\n",
    "`city` — имя клиента."
   ]
  },
  {
   "cell_type": "markdown",
   "id": "c66dd0b4",
   "metadata": {},
   "source": [
    "## Подключимся к базе данных, ознакомимся с таблицами"
   ]
  },
  {
   "cell_type": "code",
   "execution_count": 1,
   "id": "ba2593e5",
   "metadata": {},
   "outputs": [],
   "source": [
    "# импортируем библиотеки\n",
    "import sqlite3\n",
    "import pandas as pd \n",
    "from sqlalchemy import create_engine"
   ]
  },
  {
   "cell_type": "code",
   "execution_count": 2,
   "id": "6a0a4861",
   "metadata": {},
   "outputs": [],
   "source": [
    "# подключаемся к базе\n",
    "engine = create_engine('sqlite:///task2_sql.db')"
   ]
  },
  {
   "cell_type": "code",
   "execution_count": 3,
   "id": "b7d5dd95",
   "metadata": {},
   "outputs": [
    {
     "data": {
      "text/html": [
       "<div>\n",
       "<style scoped>\n",
       "    .dataframe tbody tr th:only-of-type {\n",
       "        vertical-align: middle;\n",
       "    }\n",
       "\n",
       "    .dataframe tbody tr th {\n",
       "        vertical-align: top;\n",
       "    }\n",
       "\n",
       "    .dataframe thead th {\n",
       "        text-align: right;\n",
       "    }\n",
       "</style>\n",
       "<table border=\"1\" class=\"dataframe\">\n",
       "  <thead>\n",
       "    <tr style=\"text-align: right;\">\n",
       "      <th></th>\n",
       "      <th>order_num</th>\n",
       "      <th>client_id</th>\n",
       "      <th>store_name</th>\n",
       "      <th>price</th>\n",
       "    </tr>\n",
       "  </thead>\n",
       "  <tbody>\n",
       "    <tr>\n",
       "      <th>0</th>\n",
       "      <td>1</td>\n",
       "      <td>1</td>\n",
       "      <td>Ромашка</td>\n",
       "      <td>1500</td>\n",
       "    </tr>\n",
       "    <tr>\n",
       "      <th>1</th>\n",
       "      <td>2</td>\n",
       "      <td>1</td>\n",
       "      <td>Росинка</td>\n",
       "      <td>1100</td>\n",
       "    </tr>\n",
       "    <tr>\n",
       "      <th>2</th>\n",
       "      <td>3</td>\n",
       "      <td>1</td>\n",
       "      <td>Рога и копыта</td>\n",
       "      <td>500</td>\n",
       "    </tr>\n",
       "    <tr>\n",
       "      <th>3</th>\n",
       "      <td>4</td>\n",
       "      <td>5</td>\n",
       "      <td>Ромашка</td>\n",
       "      <td>800</td>\n",
       "    </tr>\n",
       "    <tr>\n",
       "      <th>4</th>\n",
       "      <td>5</td>\n",
       "      <td>5</td>\n",
       "      <td>Росинка</td>\n",
       "      <td>900</td>\n",
       "    </tr>\n",
       "  </tbody>\n",
       "</table>\n",
       "</div>"
      ],
      "text/plain": [
       "   order_num  client_id     store_name  price\n",
       "0          1          1        Ромашка   1500\n",
       "1          2          1        Росинка   1100\n",
       "2          3          1  Рога и копыта    500\n",
       "3          4          5        Ромашка    800\n",
       "4          5          5        Росинка    900"
      ]
     },
     "execution_count": 3,
     "metadata": {},
     "output_type": "execute_result"
    }
   ],
   "source": [
    "# выводим первые строки таблицы sales\n",
    "\n",
    "query = '''\n",
    "           SELECT * FROM sales\n",
    "           LIMIT 5\n",
    "        '''\n",
    "pd.io.sql.read_sql(query, con = engine)"
   ]
  },
  {
   "cell_type": "code",
   "execution_count": 4,
   "id": "6a37315b",
   "metadata": {},
   "outputs": [
    {
     "data": {
      "text/html": [
       "<div>\n",
       "<style scoped>\n",
       "    .dataframe tbody tr th:only-of-type {\n",
       "        vertical-align: middle;\n",
       "    }\n",
       "\n",
       "    .dataframe tbody tr th {\n",
       "        vertical-align: top;\n",
       "    }\n",
       "\n",
       "    .dataframe thead th {\n",
       "        text-align: right;\n",
       "    }\n",
       "</style>\n",
       "<table border=\"1\" class=\"dataframe\">\n",
       "  <thead>\n",
       "    <tr style=\"text-align: right;\">\n",
       "      <th></th>\n",
       "      <th>client_id</th>\n",
       "      <th>client_name</th>\n",
       "      <th>city</th>\n",
       "    </tr>\n",
       "  </thead>\n",
       "  <tbody>\n",
       "    <tr>\n",
       "      <th>0</th>\n",
       "      <td>1</td>\n",
       "      <td>Иван Петров</td>\n",
       "      <td>Петрозаводск</td>\n",
       "    </tr>\n",
       "    <tr>\n",
       "      <th>1</th>\n",
       "      <td>2</td>\n",
       "      <td>Игорь Смирнов</td>\n",
       "      <td>Санкт-Петербург</td>\n",
       "    </tr>\n",
       "    <tr>\n",
       "      <th>2</th>\n",
       "      <td>3</td>\n",
       "      <td>Анна Иванова</td>\n",
       "      <td>Великий Новгород</td>\n",
       "    </tr>\n",
       "    <tr>\n",
       "      <th>3</th>\n",
       "      <td>4</td>\n",
       "      <td>Ирина Михайлова</td>\n",
       "      <td>Санкт-Петербург</td>\n",
       "    </tr>\n",
       "    <tr>\n",
       "      <th>4</th>\n",
       "      <td>5</td>\n",
       "      <td>Виталий Попов</td>\n",
       "      <td>Петрозаводск</td>\n",
       "    </tr>\n",
       "  </tbody>\n",
       "</table>\n",
       "</div>"
      ],
      "text/plain": [
       "   client_id      client_name              city\n",
       "0          1      Иван Петров      Петрозаводск\n",
       "1          2    Игорь Смирнов   Санкт-Петербург\n",
       "2          3     Анна Иванова  Великий Новгород\n",
       "3          4  Ирина Михайлова   Санкт-Петербург\n",
       "4          5    Виталий Попов      Петрозаводск"
      ]
     },
     "execution_count": 4,
     "metadata": {},
     "output_type": "execute_result"
    }
   ],
   "source": [
    "# выводим первые строки таблицы client_info\n",
    "\n",
    "query = '''\n",
    "           SELECT * FROM client_info\n",
    "           LIMIT 5\n",
    "        '''\n",
    "pd.io.sql.read_sql(query, con = engine)"
   ]
  },
  {
   "cell_type": "markdown",
   "id": "dadb7b9b",
   "metadata": {},
   "source": [
    "##  Напишем запрос, который покажет, сколько всего денег потратил каждый человек"
   ]
  },
  {
   "cell_type": "code",
   "execution_count": 5,
   "id": "ca6646d3",
   "metadata": {},
   "outputs": [
    {
     "data": {
      "text/html": [
       "<div>\n",
       "<style scoped>\n",
       "    .dataframe tbody tr th:only-of-type {\n",
       "        vertical-align: middle;\n",
       "    }\n",
       "\n",
       "    .dataframe tbody tr th {\n",
       "        vertical-align: top;\n",
       "    }\n",
       "\n",
       "    .dataframe thead th {\n",
       "        text-align: right;\n",
       "    }\n",
       "</style>\n",
       "<table border=\"1\" class=\"dataframe\">\n",
       "  <thead>\n",
       "    <tr style=\"text-align: right;\">\n",
       "      <th></th>\n",
       "      <th>client_id</th>\n",
       "      <th>client_name</th>\n",
       "      <th>sum_all</th>\n",
       "    </tr>\n",
       "  </thead>\n",
       "  <tbody>\n",
       "    <tr>\n",
       "      <th>0</th>\n",
       "      <td>7</td>\n",
       "      <td>Петр Петров</td>\n",
       "      <td>11100</td>\n",
       "    </tr>\n",
       "    <tr>\n",
       "      <th>1</th>\n",
       "      <td>3</td>\n",
       "      <td>Анна Иванова</td>\n",
       "      <td>4550</td>\n",
       "    </tr>\n",
       "    <tr>\n",
       "      <th>2</th>\n",
       "      <td>2</td>\n",
       "      <td>Игорь Смирнов</td>\n",
       "      <td>4150</td>\n",
       "    </tr>\n",
       "    <tr>\n",
       "      <th>3</th>\n",
       "      <td>1</td>\n",
       "      <td>Иван Петров</td>\n",
       "      <td>3100</td>\n",
       "    </tr>\n",
       "    <tr>\n",
       "      <th>4</th>\n",
       "      <td>5</td>\n",
       "      <td>Виталий Попов</td>\n",
       "      <td>1920</td>\n",
       "    </tr>\n",
       "    <tr>\n",
       "      <th>5</th>\n",
       "      <td>4</td>\n",
       "      <td>Ирина Михайлова</td>\n",
       "      <td>1850</td>\n",
       "    </tr>\n",
       "    <tr>\n",
       "      <th>6</th>\n",
       "      <td>6</td>\n",
       "      <td>Иван Иванов</td>\n",
       "      <td>890</td>\n",
       "    </tr>\n",
       "  </tbody>\n",
       "</table>\n",
       "</div>"
      ],
      "text/plain": [
       "   client_id      client_name  sum_all\n",
       "0          7      Петр Петров    11100\n",
       "1          3     Анна Иванова     4550\n",
       "2          2    Игорь Смирнов     4150\n",
       "3          1      Иван Петров     3100\n",
       "4          5    Виталий Попов     1920\n",
       "5          4  Ирина Михайлова     1850\n",
       "6          6      Иван Иванов      890"
      ]
     },
     "execution_count": 5,
     "metadata": {},
     "output_type": "execute_result"
    }
   ],
   "source": [
    "query = '''\n",
    "           SELECT s.client_id,\n",
    "                  c.client_name,\n",
    "                  SUM(s.price) AS sum_all\n",
    "           FROM sales AS s\n",
    "           LEFT JOIN client_info AS c ON s.client_id=c.client_id\n",
    "           GROUP BY s.client_id\n",
    "           ORDER BY sum_all DESC\n",
    "        '''\n",
    "pd.io.sql.read_sql(query, con = engine)"
   ]
  },
  {
   "cell_type": "markdown",
   "id": "8799d89a",
   "metadata": {},
   "source": [
    "Наибольшую сумму потратил Петр Петров. Наименьшую - Иван Иванов."
   ]
  },
  {
   "cell_type": "markdown",
   "id": "0264a5f2",
   "metadata": {},
   "source": [
    "## Напишем запрос, который покажет, сколько заказов у каждого человека"
   ]
  },
  {
   "cell_type": "code",
   "execution_count": 6,
   "id": "bcc64d68",
   "metadata": {
    "scrolled": true
   },
   "outputs": [
    {
     "data": {
      "text/html": [
       "<div>\n",
       "<style scoped>\n",
       "    .dataframe tbody tr th:only-of-type {\n",
       "        vertical-align: middle;\n",
       "    }\n",
       "\n",
       "    .dataframe tbody tr th {\n",
       "        vertical-align: top;\n",
       "    }\n",
       "\n",
       "    .dataframe thead th {\n",
       "        text-align: right;\n",
       "    }\n",
       "</style>\n",
       "<table border=\"1\" class=\"dataframe\">\n",
       "  <thead>\n",
       "    <tr style=\"text-align: right;\">\n",
       "      <th></th>\n",
       "      <th>client_id</th>\n",
       "      <th>client_name</th>\n",
       "      <th>count_order</th>\n",
       "    </tr>\n",
       "  </thead>\n",
       "  <tbody>\n",
       "    <tr>\n",
       "      <th>0</th>\n",
       "      <td>5</td>\n",
       "      <td>Виталий Попов</td>\n",
       "      <td>3</td>\n",
       "    </tr>\n",
       "    <tr>\n",
       "      <th>1</th>\n",
       "      <td>2</td>\n",
       "      <td>Игорь Смирнов</td>\n",
       "      <td>3</td>\n",
       "    </tr>\n",
       "    <tr>\n",
       "      <th>2</th>\n",
       "      <td>1</td>\n",
       "      <td>Иван Петров</td>\n",
       "      <td>3</td>\n",
       "    </tr>\n",
       "    <tr>\n",
       "      <th>3</th>\n",
       "      <td>7</td>\n",
       "      <td>Петр Петров</td>\n",
       "      <td>2</td>\n",
       "    </tr>\n",
       "    <tr>\n",
       "      <th>4</th>\n",
       "      <td>4</td>\n",
       "      <td>Ирина Михайлова</td>\n",
       "      <td>2</td>\n",
       "    </tr>\n",
       "    <tr>\n",
       "      <th>5</th>\n",
       "      <td>3</td>\n",
       "      <td>Анна Иванова</td>\n",
       "      <td>2</td>\n",
       "    </tr>\n",
       "    <tr>\n",
       "      <th>6</th>\n",
       "      <td>6</td>\n",
       "      <td>Иван Иванов</td>\n",
       "      <td>1</td>\n",
       "    </tr>\n",
       "  </tbody>\n",
       "</table>\n",
       "</div>"
      ],
      "text/plain": [
       "   client_id      client_name  count_order\n",
       "0          5    Виталий Попов            3\n",
       "1          2    Игорь Смирнов            3\n",
       "2          1      Иван Петров            3\n",
       "3          7      Петр Петров            2\n",
       "4          4  Ирина Михайлова            2\n",
       "5          3     Анна Иванова            2\n",
       "6          6      Иван Иванов            1"
      ]
     },
     "execution_count": 6,
     "metadata": {},
     "output_type": "execute_result"
    }
   ],
   "source": [
    "query = '''\n",
    "           SELECT s.client_id,\n",
    "                  c.client_name,\n",
    "                  count(s.client_id) AS count_order\n",
    "           FROM sales AS s\n",
    "           LEFT JOIN client_info AS c ON s.client_id=c.client_id\n",
    "           GROUP BY s.client_id\n",
    "           ORDER BY count_order DESC\n",
    "        '''\n",
    "pd.io.sql.read_sql(query, con = engine)"
   ]
  },
  {
   "cell_type": "markdown",
   "id": "c9f6a8b5",
   "metadata": {},
   "source": [
    "Больше всего заказов было у Виталия Попова, Игоря Смирнова и Ивана Петрова."
   ]
  },
  {
   "cell_type": "markdown",
   "id": "49f0da46",
   "metadata": {},
   "source": [
    " ## Напишем запрос, который покажет, сколько раз каждый человек посетил каждую точку в городе Петрозаводск"
   ]
  },
  {
   "cell_type": "code",
   "execution_count": 7,
   "id": "e06ec5fc",
   "metadata": {},
   "outputs": [
    {
     "data": {
      "text/html": [
       "<div>\n",
       "<style scoped>\n",
       "    .dataframe tbody tr th:only-of-type {\n",
       "        vertical-align: middle;\n",
       "    }\n",
       "\n",
       "    .dataframe tbody tr th {\n",
       "        vertical-align: top;\n",
       "    }\n",
       "\n",
       "    .dataframe thead th {\n",
       "        text-align: right;\n",
       "    }\n",
       "</style>\n",
       "<table border=\"1\" class=\"dataframe\">\n",
       "  <thead>\n",
       "    <tr style=\"text-align: right;\">\n",
       "      <th></th>\n",
       "      <th>client_id</th>\n",
       "      <th>client_name</th>\n",
       "      <th>city</th>\n",
       "      <th>store_name</th>\n",
       "      <th>count_order</th>\n",
       "    </tr>\n",
       "  </thead>\n",
       "  <tbody>\n",
       "    <tr>\n",
       "      <th>0</th>\n",
       "      <td>1</td>\n",
       "      <td>Иван Петров</td>\n",
       "      <td>Петрозаводск</td>\n",
       "      <td>Рога и копыта</td>\n",
       "      <td>1</td>\n",
       "    </tr>\n",
       "    <tr>\n",
       "      <th>1</th>\n",
       "      <td>1</td>\n",
       "      <td>Иван Петров</td>\n",
       "      <td>Петрозаводск</td>\n",
       "      <td>Ромашка</td>\n",
       "      <td>1</td>\n",
       "    </tr>\n",
       "    <tr>\n",
       "      <th>2</th>\n",
       "      <td>1</td>\n",
       "      <td>Иван Петров</td>\n",
       "      <td>Петрозаводск</td>\n",
       "      <td>Росинка</td>\n",
       "      <td>1</td>\n",
       "    </tr>\n",
       "    <tr>\n",
       "      <th>3</th>\n",
       "      <td>5</td>\n",
       "      <td>Виталий Попов</td>\n",
       "      <td>Петрозаводск</td>\n",
       "      <td>Рога и копыта</td>\n",
       "      <td>1</td>\n",
       "    </tr>\n",
       "    <tr>\n",
       "      <th>4</th>\n",
       "      <td>5</td>\n",
       "      <td>Виталий Попов</td>\n",
       "      <td>Петрозаводск</td>\n",
       "      <td>Ромашка</td>\n",
       "      <td>1</td>\n",
       "    </tr>\n",
       "    <tr>\n",
       "      <th>5</th>\n",
       "      <td>5</td>\n",
       "      <td>Виталий Попов</td>\n",
       "      <td>Петрозаводск</td>\n",
       "      <td>Росинка</td>\n",
       "      <td>1</td>\n",
       "    </tr>\n",
       "  </tbody>\n",
       "</table>\n",
       "</div>"
      ],
      "text/plain": [
       "   client_id    client_name          city     store_name  count_order\n",
       "0          1    Иван Петров  Петрозаводск  Рога и копыта            1\n",
       "1          1    Иван Петров  Петрозаводск        Ромашка            1\n",
       "2          1    Иван Петров  Петрозаводск        Росинка            1\n",
       "3          5  Виталий Попов  Петрозаводск  Рога и копыта            1\n",
       "4          5  Виталий Попов  Петрозаводск        Ромашка            1\n",
       "5          5  Виталий Попов  Петрозаводск        Росинка            1"
      ]
     },
     "execution_count": 7,
     "metadata": {},
     "output_type": "execute_result"
    }
   ],
   "source": [
    "query = '''\n",
    "           SELECT s.client_id,\n",
    "                  c.client_name, \n",
    "                  c.city, \n",
    "                  s.store_name,\n",
    "                  count(s.client_id) AS count_order\n",
    "           FROM sales AS s\n",
    "           LEFT JOIN client_info AS c ON s.client_id=c.client_id\n",
    "           WHERE c.city = 'Петрозаводск'\n",
    "           GROUP BY s.client_id, c.city, s.store_name\n",
    "        '''\n",
    "pd.io.sql.read_sql(query, con = engine)"
   ]
  },
  {
   "cell_type": "markdown",
   "id": "8e539490",
   "metadata": {},
   "source": [
    "Каждый человек посетил каждую точку в г.Петрозаводск один раз."
   ]
  },
  {
   "cell_type": "markdown",
   "id": "0b95a9b7",
   "metadata": {},
   "source": [
    "## Общие выводы"
   ]
  },
  {
   "cell_type": "markdown",
   "id": "43d5395e",
   "metadata": {},
   "source": [
    "Исследуя базу данных, удалось сделать следующие выводы:\n",
    "* Наибольшую сумму потратил Петр Петров. Наименьшую - Иван Иванов.\n",
    "* Больше всего заказов было у Виталия Попова, Игоря Смирнова и Ивана Петрова.\n",
    "* Каждый человек посетил каждую точку в г.Петрозаводск один раз."
   ]
  }
 ],
 "metadata": {
  "kernelspec": {
   "display_name": "Python 3 (ipykernel)",
   "language": "python",
   "name": "python3"
  },
  "language_info": {
   "codemirror_mode": {
    "name": "ipython",
    "version": 3
   },
   "file_extension": ".py",
   "mimetype": "text/x-python",
   "name": "python",
   "nbconvert_exporter": "python",
   "pygments_lexer": "ipython3",
   "version": "3.9.12"
  }
 },
 "nbformat": 4,
 "nbformat_minor": 5
}
